{
 "cells": [
  {
   "cell_type": "code",
   "execution_count": null,
   "id": "7f7ad006-9c0e-411a-aea0-78875f69331b",
   "metadata": {},
   "outputs": [],
   "source": [
    "# Q1. Write a program to calculate the electricity bill using only if statement? (accept number of unit from user\\) according to the following criteria:\n",
    "# Unit Price\n",
    "# First 100 units no charge\n",
    "# Next 100 units Rs 5 per unit\n",
    "# After 200 units Rs 10 per unit\n",
    "# (For example, if input unit is 350 than total bill amount is Rs2000). Lets explain...\n",
    "# For first 100 no charges\n",
    "# Now you have 250 unit remaining\n",
    "# 100-200 you need to pay – 100*5 = 500\n",
    "# Now 200-100 you need to pay 150*10 = 1500\n",
    "# Total = 500+1500 = 2000"
   ]
  },
  {
   "cell_type": "code",
   "execution_count": 3,
   "id": "a7e48a54-36eb-4cd9-8724-c031050aa180",
   "metadata": {},
   "outputs": [
    {
     "name": "stdin",
     "output_type": "stream",
     "text": [
      "Enter the number of units consumed:  657\n"
     ]
    },
    {
     "name": "stdout",
     "output_type": "stream",
     "text": [
      "Your total electricity bill is Rs: 5070 ₹\n"
     ]
    }
   ],
   "source": [
    "# Accept number of units from \n",
    "units = int(input(\"Enter the number of units consumed: \"))\n",
    "bill = 0\n",
    "# First 100 units are free\n",
    "\n",
    "if units <= 100:\n",
    "    bill = 0\n",
    "\n",
    "# Next 100 units are charged at Rs 5 per unit\n",
    "\n",
    "if units > 100 and units <= 200:\n",
    "    bill = (units - 100) * 5\n",
    "\n",
    "# Units beyond 200 are charged at Rs 10 per unit\n",
    "\n",
    "if units > 200:\n",
    "    bill = (100 * 5) + ((units - 200) * 10)\n",
    "\n",
    "print(\"Your total electricity bill is Rs:\",bill,\"₹\")"
   ]
  },
  {
   "cell_type": "markdown",
   "id": "ed42705c-e7c7-487b-bc28-854584495fad",
   "metadata": {},
   "source": [
    "<!-- Q2. Write a program to accept percentage from the user and display\n",
    "the grade according to the following criteria:\n",
    "Marks Grade\n",
    "> 90 A\n",
    "> 80 and <= 90 B\n",
    ">= 60 and <= 80 C\n",
    "below 60 D -->"
   ]
  },
  {
   "cell_type": "code",
   "execution_count": 10,
   "id": "ed90c37d-3161-488b-8754-ae47d94d9b2b",
   "metadata": {},
   "outputs": [
    {
     "name": "stdin",
     "output_type": "stream",
     "text": [
      "enter your percentage 54\n"
     ]
    },
    {
     "name": "stdout",
     "output_type": "stream",
     "text": [
      "your Grade is: D\n"
     ]
    }
   ],
   "source": [
    "# accept percentage from the student\n",
    "percentage=(float(input(\"enter your percentage\")))\n",
    "if percentage > 90:\n",
    "    grade = \"A\"\n",
    "if percentage > 80 and percentage <= 90:\n",
    "    grade = \"B\"\n",
    "if percentage >= 60 and percentage <= 80:\n",
    "    grade = \"C\"\n",
    "if percentage < 60:\n",
    "    grade = \"D\"\n",
    "print(\"your  is:\",grade)"
   ]
  },
  {
   "cell_type": "code",
   "execution_count": null,
   "id": "8c682641-aec5-425e-94c2-8a7425eb19b4",
   "metadata": {},
   "outputs": [],
   "source": [
    "#Q3. Accept the age of 4 people and display the youngest one?"
   ]
  },
  {
   "cell_type": "code",
   "execution_count": 16,
   "id": "253db54e-3bef-4144-a4a6-a381fb87ea8f",
   "metadata": {},
   "outputs": [
    {
     "name": "stdin",
     "output_type": "stream",
     "text": [
      "Enter your Age1:  32\n",
      "Enter your Age2:  12\n",
      "Enter your Age3:  26\n",
      "Enter your Age4:  76\n"
     ]
    },
    {
     "name": "stdout",
     "output_type": "stream",
     "text": [
      "The youngest age is: 12\n"
     ]
    }
   ],
   "source": [
    "# Accept the age from the people\n",
    "age_person1=int(input(\"Enter your Age1: \"))\n",
    "age_person2=int(input(\"Enter your Age2: \"))\n",
    "age_person3=int(input(\"Enter your Age3: \"))\n",
    "age_person4=int(input(\"Enter your Age4: \"))\n",
    "# assume the youngest is person1\n",
    "youngest=age_person1\n",
    "\n",
    "if age_person2< youngest:\n",
    "    youngest=age_person2\n",
    "\n",
    "if age_person3<youngest:\n",
    "    youngest=age_person3\n",
    "\n",
    "if age_person4<youngest:\n",
    "    youngest=age_person4\n",
    "\n",
    "print(\"The youngest age is:\",youngest)"
   ]
  },
  {
   "cell_type": "code",
   "execution_count": null,
   "id": "c81a016f-b82c-4906-9b9c-59f45673aeb7",
   "metadata": {},
   "outputs": [],
   "source": [
    "# Q4. A company decided to give bonus to employee\n",
    "# according to following criteria:\n",
    "\n",
    "# Time period of Service Bonus\n",
    "\n",
    "# More than 10 years 10%\n",
    "\n",
    "# >=6 and <=10 8%\n",
    "\n",
    "# Less than 6 years 5%\n",
    "\n",
    "# Ask user for their salary and years of service and print the net bonus amount?"
   ]
  },
  {
   "cell_type": "code",
   "execution_count": 20,
   "id": "5e0384db-fbb0-4f53-a3b6-5d1d1fa6de12",
   "metadata": {},
   "outputs": [
    {
     "name": "stdin",
     "output_type": "stream",
     "text": [
      "Enter your Salary:  24000\n",
      "Enter Your Year Of Service 3\n"
     ]
    },
    {
     "name": "stdout",
     "output_type": "stream",
     "text": [
      "The Net Bonus Ammount:  1200.0\n"
     ]
    }
   ],
   "source": [
    "# accept usre for their salary and years of service and print the net bonus ammount.\n",
    "\n",
    "salary=(float(input(\"Enter your Salary: \")))\n",
    "year_of_service=(int(input(\"Enter Your Year Of Service\")))\n",
    "\n",
    "if year_of_service > 10:\n",
    "    bonus = salary*0.10\n",
    "if year_of_service >= 6 and year_of_service <=10:\n",
    "    bonus = salary * 0.08\n",
    "if year_of_service <= 6:\n",
    "    bonus = salary * 0.05\n",
    "\n",
    "print(\"The Net Bonus Ammount: \",bonus)"
   ]
  },
  {
   "cell_type": "code",
   "execution_count": null,
   "id": "fc35d9d0-78a5-43c4-be98-cd4aca413111",
   "metadata": {},
   "outputs": [],
   "source": [
    "# Q5. Accept three numbers from the user and display the second largest number?"
   ]
  },
  {
   "cell_type": "code",
   "execution_count": null,
   "id": "4d5d8ee8-0700-4f7b-a9d4-6495f150eff0",
   "metadata": {},
   "outputs": [],
   "source": [
    "# accept the numbers from the users\n",
    "number1=(int(input(\"Enter the number1\")))\n",
    "number2=(int(input(\"Enter the number2\")))\n",
    "number3=(int(input(\"Enter the number3\")))\n",
    "\n",
    "# assume number1 is the \n",
    " if number1>number2 and number3<number2:\n",
    "     number2 is the second largest"
   ]
  },
  {
   "cell_type": "code",
   "execution_count": null,
   "id": "b270da31-b9f3-47c1-b4f3-9ea39acd5b25",
   "metadata": {},
   "outputs": [],
   "source": [
    "# Q6. Accept the marked price from the user and calculate\n",
    "# the Net amount as (Marked Price – Discount) to pay\n",
    "# according to following criteria:\n",
    "\n",
    "# Marked Price Discount\n",
    "# >10000 20%\n",
    "# >7000 and <=10000 15%\n",
    "# <=7000 10%"
   ]
  },
  {
   "cell_type": "code",
   "execution_count": null,
   "id": "a9c759f8-b614-4a3b-82b7-a0a0546f347b",
   "metadata": {},
   "outputs": [],
   "source": [
    "# Accept the marked price from the user\n",
    "marked_price = float(input(\"Enter the marked price: \"))\n",
    "\n",
    "discount = 0\n",
    "\n",
    "if marked_price > 10000:\n",
    "    discount = marked_price * 0.20\n",
    "\n",
    "if marked_price > 7000 and marked_price <= 10000:\n",
    "    discount = marked_price * 0.15\n",
    "\n",
    "if marked_price <= 7000:\n",
    "    discount = marked_price * 0.10\n",
    "    \n",
    "net_amount = marked_price - discount\n",
    "\n",
    "print(\"Discount applied: Rs\", discount)\n",
    "print(\"Net amount to be paid: Rs\", net_amount)\n",
    "\n",
    "# Q7. Accept the marks of English, Math and Science,\n",
    "# Social Studies Subject and display the stream allotted\n",
    "# according to following:\n",
    "\n",
    "# All Subjects more than 80 marks — Science Stream\n",
    "\n",
    "# English >80 and Math, Science above 50 — Commerce Stream\n",
    "\n",
    "# English > 80 and social studies > 80 — Humanities"
   ]
  },
  {
   "cell_type": "code",
   "execution_count": null,
   "id": "9876e7ee-7661-432f-a6b1-8d00207acb30",
   "metadata": {},
   "outputs": [],
   "source": [
    "# Accept marks from the user\n",
    "english = float(input(\"Enter English marks: \"))\n",
    "math = float(input(\"Enter Math marks: \"))\n",
    "science = float(input(\"Enter Science marks: \"))\n",
    "social_studies = float(input(\"Enter Social Studies marks: \"))\n",
    "\n",
    "if english > 80 and math > 80 and science > 80 and social_studies > 80:\n",
    "    stream = \"Science\"\n",
    "elif english > 80 and math > 50 and science > 50:\n",
    "    stream = \"Commerce\"\n",
    "elif english > 80 and social_studies > 80:\n",
    "    stream = \"Humanities\"\n",
    "else:\n",
    "    stream = \"No specific stream allotted\""
   ]
  },
  {
   "cell_type": "code",
   "execution_count": null,
   "id": "5892cbbb-2365-47d1-a38e-40bb78e1c3a8",
   "metadata": {},
   "outputs": [
    {
     "name": "stdin",
     "output_type": "stream",
     "text": [
      "Enter English marks:  87\n",
      "Enter Math marks:  65\n",
      "Enter Science marks:  54\n",
      "Enter Social Studies marks:  82\n"
     ]
    },
    {
     "name": "stdout",
     "output_type": "stream",
     "text": [
      "Stream allotted: Commerce\n"
     ]
    }
   ],
   "source": [
    "print(\"Stream allotted:\", stream)"
   ]
  },
  {
   "cell_type": "code",
   "execution_count": null,
   "id": "0d4cd39d-152b-497a-a81e-2b6ed47ee82e",
   "metadata": {},
   "outputs": [],
   "source": [
    "# Q8. Write a program to display \"Hello\" if a number entered\n",
    "# by user is a multiple of five, otherwise print \"Bye\"?"
   ]
  },
  {
   "cell_type": "code",
   "execution_count": 24,
   "id": "c9208386-b6aa-42cd-9ac4-8f6464506564",
   "metadata": {},
   "outputs": [
    {
     "name": "stdin",
     "output_type": "stream",
     "text": [
      "Enter a number:  5\n"
     ]
    },
    {
     "name": "stdout",
     "output_type": "stream",
     "text": [
      "Hello\n"
     ]
    }
   ],
   "source": [
    "number = int(input(\"Enter a number: \"))\n",
    "\n",
    "if number % 5 == 0:\n",
    "    print(\"Hello\")\n",
    "else:\n",
    "    print(\"Bye\")"
   ]
  },
  {
   "cell_type": "code",
   "execution_count": null,
   "id": "fa8d5007-0aca-49db-aef1-3ed717402f21",
   "metadata": {},
   "outputs": [],
   "source": [
    "# Q9. Write a program to check whether the last digit of a number\n",
    "# (entered by user) is divisible by 3 or not?"
   ]
  },
  {
   "cell_type": "code",
   "execution_count": 25,
   "id": "66155a13-7249-4160-9404-ed5418db8c65",
   "metadata": {},
   "outputs": [
    {
     "name": "stdin",
     "output_type": "stream",
     "text": [
      "Enter a number:  65\n"
     ]
    },
    {
     "name": "stdout",
     "output_type": "stream",
     "text": [
      "No, the last digit is not divisible by 3.\n"
     ]
    }
   ],
   "source": [
    "number = int(input(\"Enter a number: \"))\n",
    "\n",
    "last_digit = number % 10\n",
    "\n",
    "if last_digit % 3 == 0:\n",
    "    print(\"Yes, the last digit is divisible by 3.\")\n",
    "else:\n",
    "    print(\"No, the last digit is not divisible by 3.\")"
   ]
  },
  {
   "cell_type": "code",
   "execution_count": null,
   "id": "a8b3eba2-1ff4-4f62-a178-6c0380d62536",
   "metadata": {},
   "outputs": [],
   "source": [
    "# Q10. Write a program to check whether a number entered\n",
    "# is three-digit number or not?"
   ]
  },
  {
   "cell_type": "code",
   "execution_count": 26,
   "id": "27dede26-a9d5-460c-9447-3e3eedd4275e",
   "metadata": {},
   "outputs": [
    {
     "name": "stdin",
     "output_type": "stream",
     "text": [
      "Enter a number:  43\n"
     ]
    },
    {
     "name": "stdout",
     "output_type": "stream",
     "text": [
      "No, it's not a three-digit number.\n"
     ]
    }
   ],
   "source": [
    "number = int(input(\"Enter a number: \"))\n",
    "\n",
    "if 100 <= number <= 999 or -999 <= number <= -100:\n",
    "    print(\"Yes, it's a three-digit number.\")\n",
    "else:\n",
    "    print(\"No, it's not a three-digit number.\")"
   ]
  },
  {
   "cell_type": "code",
   "execution_count": null,
   "id": "ce8c8516-cc57-44ec-bd12-d68e7d655dcc",
   "metadata": {},
   "outputs": [],
   "source": []
  }
 ],
 "metadata": {
  "kernelspec": {
   "display_name": "Python [conda env:base] *",
   "language": "python",
   "name": "conda-base-py"
  },
  "language_info": {
   "codemirror_mode": {
    "name": "ipython",
    "version": 3
   },
   "file_extension": ".py",
   "mimetype": "text/x-python",
   "name": "python",
   "nbconvert_exporter": "python",
   "pygments_lexer": "ipython3",
   "version": "3.13.5"
  }
 },
 "nbformat": 4,
 "nbformat_minor": 5
}
