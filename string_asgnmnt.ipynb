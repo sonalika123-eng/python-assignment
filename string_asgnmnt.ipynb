{
 "cells": [
  {
   "cell_type": "code",
   "execution_count": null,
   "id": "00473e31-3dff-40c0-bde8-1cc272c6ba66",
   "metadata": {},
   "outputs": [],
   "source": [
    "# 1.str.capitalize()\n",
    "# Capitalizes the first character."
   ]
  },
  {
   "cell_type": "code",
   "execution_count": 1,
   "id": "b828f559-0419-47ab-a14f-cece4b508cfe",
   "metadata": {},
   "outputs": [
    {
     "data": {
      "text/plain": [
       "'Str.capitalize()'"
      ]
     },
     "execution_count": 1,
     "metadata": {},
     "output_type": "execute_result"
    }
   ],
   "source": [
    "string=\"str.capitalize()\"\n",
    "string.capitalize()"
   ]
  },
  {
   "cell_type": "code",
   "execution_count": null,
   "id": "40fc2610-7dc6-4da5-a655-d60f62e980dc",
   "metadata": {},
   "outputs": [],
   "source": [
    "# str.casefold()\n",
    "# Converts to lowercase (more aggressive than lower())."
   ]
  },
  {
   "cell_type": "code",
   "execution_count": 3,
   "id": "41f52ee6-de67-4513-b018-1c653bfff211",
   "metadata": {},
   "outputs": [
    {
     "data": {
      "text/plain": [
       "'str.casefold()'"
      ]
     },
     "execution_count": 3,
     "metadata": {},
     "output_type": "execute_result"
    }
   ],
   "source": [
    "string=\"Str.casefold()\"\n",
    "string.lower()"
   ]
  },
  {
   "cell_type": "code",
   "execution_count": 4,
   "id": "14308996-93b1-453f-8d0b-a665eb3f079f",
   "metadata": {},
   "outputs": [
    {
     "data": {
      "text/plain": [
       "'str.casefold()'"
      ]
     },
     "execution_count": 4,
     "metadata": {},
     "output_type": "execute_result"
    }
   ],
   "source": [
    "string.casefold()"
   ]
  },
  {
   "cell_type": "code",
   "execution_count": null,
   "id": "28289390-6f24-438a-8682-d219486d1eb1",
   "metadata": {},
   "outputs": [],
   "source": [
    "# str.center(width[, fillchar])\n",
    "# Centers the string within the specified width."
   ]
  },
  {
   "cell_type": "code",
   "execution_count": 9,
   "id": "e5c6ada1-ad3c-42e1-aa24-443c60514436",
   "metadata": {},
   "outputs": [
    {
     "data": {
      "text/plain": [
       "'**python**'"
      ]
     },
     "execution_count": 9,
     "metadata": {},
     "output_type": "execute_result"
    }
   ],
   "source": [
    "string=\"python\"\n",
    "string.center(10,\"*\")"
   ]
  },
  {
   "cell_type": "code",
   "execution_count": null,
   "id": "31b06124-bfaf-48c5-a6cd-8466880193ba",
   "metadata": {},
   "outputs": [],
   "source": [
    "# str.count(sub[, start[, end]])\n",
    "# Returns the number of non-overlapping occurrences of a substring."
   ]
  },
  {
   "cell_type": "code",
   "execution_count": 10,
   "id": "5eeb84e1-237f-4a9a-ac13-baef8f3ab121",
   "metadata": {},
   "outputs": [
    {
     "data": {
      "text/plain": [
       "6"
      ]
     },
     "execution_count": 10,
     "metadata": {},
     "output_type": "execute_result"
    }
   ],
   "source": [
    "string=\"Returns the number of non-overlapping occurrences of a substring.\"\n",
    "string.count(\"n\",12,len(string))"
   ]
  },
  {
   "cell_type": "code",
   "execution_count": null,
   "id": "66f88af5-4c51-426a-ad7b-4a8cd11957a0",
   "metadata": {},
   "outputs": [],
   "source": [
    "# str.encode(encoding=\"utf-8\", errors=\"strict\")\n",
    "# Returns encoded version of the string."
   ]
  },
  {
   "cell_type": "code",
   "execution_count": 19,
   "id": "34e3f8c6-e927-424d-8303-5b220cc5f2db",
   "metadata": {},
   "outputs": [],
   "source": [
    "string=\"Returns encoded version of the string\"\n",
    "encoded=string.encode()"
   ]
  },
  {
   "cell_type": "code",
   "execution_count": 17,
   "id": "27ebfed7-ceef-4899-a9e5-3a78cbecf20d",
   "metadata": {},
   "outputs": [
    {
     "ename": "TypeError",
     "evalue": "encode() argument 'encoding' must be str, not type",
     "output_type": "error",
     "traceback": [
      "\u001b[1;31m---------------------------------------------------------------------------\u001b[0m",
      "\u001b[1;31mTypeError\u001b[0m                                 Traceback (most recent call last)",
      "Cell \u001b[1;32mIn[17], line 1\u001b[0m\n\u001b[1;32m----> 1\u001b[0m \u001b[38;5;28mprint\u001b[39m(\u001b[38;5;28mtype\u001b[39m(encoded))\n",
      "\u001b[1;31mTypeError\u001b[0m: encode() argument 'encoding' must be str, not type"
     ]
    }
   ],
   "source": [
    "print(type(encoded))"
   ]
  },
  {
   "cell_type": "code",
   "execution_count": null,
   "id": "ab642e4f-f6af-4ca6-875d-a63dece3fa9d",
   "metadata": {},
   "outputs": [],
   "source": [
    "# str.endswith(suffix[, start[, end]])\n",
    "# Returns True if the string ends with the specified suffix."
   ]
  },
  {
   "cell_type": "code",
   "execution_count": 21,
   "id": "9c3d1309-6f23-46fe-8e86-8cf841ad941e",
   "metadata": {},
   "outputs": [
    {
     "data": {
      "text/plain": [
       "True"
      ]
     },
     "execution_count": 21,
     "metadata": {},
     "output_type": "execute_result"
    }
   ],
   "source": [
    "string=\" Returns True if the string ends with the specified suffix\"\n",
    "string.endswith(\"x\")"
   ]
  },
  {
   "cell_type": "code",
   "execution_count": 23,
   "id": "374c4a3e-2d7e-4e14-9c88-9c5121a78eec",
   "metadata": {},
   "outputs": [
    {
     "ename": "TypeError",
     "evalue": "unbound method str.expandtabs() needs an argument",
     "output_type": "error",
     "traceback": [
      "\u001b[1;31m---------------------------------------------------------------------------\u001b[0m",
      "\u001b[1;31mTypeError\u001b[0m                                 Traceback (most recent call last)",
      "Cell \u001b[1;32mIn[23], line 1\u001b[0m\n\u001b[1;32m----> 1\u001b[0m \u001b[38;5;28mstr\u001b[39m\u001b[38;5;241m.\u001b[39mexpandtabs(tabsize\u001b[38;5;241m=\u001b[39m\u001b[38;5;241m8\u001b[39m)\n",
      "\u001b[1;31mTypeError\u001b[0m: unbound method str.expandtabs() needs an argument"
     ]
    }
   ],
   "source": [
    "# str.expandtabs(tabsize=8)\n",
    "# Replaces tabs with spaces."
   ]
  },
  {
   "cell_type": "code",
   "execution_count": 31,
   "id": "7836e449-42c7-4673-8a08-c3fa6d907c67",
   "metadata": {},
   "outputs": [
    {
     "data": {
      "text/plain": [
       "'Replaces        tabs    with    spaces'"
      ]
     },
     "execution_count": 31,
     "metadata": {},
     "output_type": "execute_result"
    }
   ],
   "source": [
    "string=\"Replaces\\ttabs\\twith\\tspaces\"\n",
    "string.expandtabs(8)"
   ]
  },
  {
   "cell_type": "code",
   "execution_count": null,
   "id": "1fbb6e56-9db4-45ff-9219-2a3612297723",
   "metadata": {},
   "outputs": [],
   "source": [
    "# str.find(sub[, start[, end]])\n",
    "# Returns the lowest index of the substring; returns -1 if not found."
   ]
  },
  {
   "cell_type": "code",
   "execution_count": 33,
   "id": "d3c13775-d759-4788-b138-957a86e62017",
   "metadata": {},
   "outputs": [
    {
     "data": {
      "text/plain": [
       "19"
      ]
     },
     "execution_count": 33,
     "metadata": {},
     "output_type": "execute_result"
    }
   ],
   "source": [
    "string=\"Returns the lowest index of the substring\"\n",
    "string.find(\"i\")"
   ]
  },
  {
   "cell_type": "code",
   "execution_count": null,
   "id": "cfeb6867-35b6-4a80-b5ff-767bce45c57f",
   "metadata": {},
   "outputs": [],
   "source": [
    "# str.format(*args, **kwargs)\n",
    "# Formats string using the specified arguments."
   ]
  },
  {
   "cell_type": "code",
   "execution_count": 47,
   "id": "e0f531c0-1616-4861-a3fa-79a2271f3179",
   "metadata": {},
   "outputs": [
    {
     "ename": "LookupError",
     "evalue": "unknown encoding: For only 49.00 dollars!",
     "output_type": "error",
     "traceback": [
      "\u001b[1;31m---------------------------------------------------------------------------\u001b[0m",
      "\u001b[1;31mLookupError\u001b[0m                               Traceback (most recent call last)",
      "Cell \u001b[1;32mIn[47], line 2\u001b[0m\n\u001b[0;32m      1\u001b[0m txt \u001b[38;5;241m=\u001b[39m \u001b[38;5;124m\"\u001b[39m\u001b[38;5;124mFor only \u001b[39m\u001b[38;5;132;01m{price:.2f}\u001b[39;00m\u001b[38;5;124m dollars!\u001b[39m\u001b[38;5;124m\"\u001b[39m\n\u001b[1;32m----> 2\u001b[0m \u001b[38;5;28mprint\u001b[39m(txt\u001b[38;5;241m.\u001b[39mformat(price \u001b[38;5;241m=\u001b[39m \u001b[38;5;241m49\u001b[39m))\n",
      "\u001b[1;31mLookupError\u001b[0m: unknown encoding: For only 49.00 dollars!"
     ]
    }
   ],
   "source": [
    "txt = \"For only {price:.2f} dollars!\"\n",
    "print(txt.format(price = 49))"
   ]
  },
  {
   "cell_type": "code",
   "execution_count": null,
   "id": "00b9f591-a78e-4bdd-8fb4-9ac2de60a7bf",
   "metadata": {},
   "outputs": [],
   "source": [
    "# str.format_map(mapping)\n",
    "# Formats string using a mapping."
   ]
  },
  {
   "cell_type": "code",
   "execution_count": 46,
   "id": "31db8ef1-b8db-40dd-a779-20afb279cb05",
   "metadata": {},
   "outputs": [
    {
     "ename": "LookupError",
     "evalue": "unknown encoding: Name: Alice, Age: 25",
     "output_type": "error",
     "traceback": [
      "\u001b[1;31m---------------------------------------------------------------------------\u001b[0m",
      "\u001b[1;31mLookupError\u001b[0m                               Traceback (most recent call last)",
      "Cell \u001b[1;32mIn[46], line 3\u001b[0m\n\u001b[0;32m      1\u001b[0m data \u001b[38;5;241m=\u001b[39m {\u001b[38;5;124m\"\u001b[39m\u001b[38;5;124mname\u001b[39m\u001b[38;5;124m\"\u001b[39m: \u001b[38;5;124m\"\u001b[39m\u001b[38;5;124mAlice\u001b[39m\u001b[38;5;124m\"\u001b[39m, \u001b[38;5;124m\"\u001b[39m\u001b[38;5;124mage\u001b[39m\u001b[38;5;124m\"\u001b[39m: \u001b[38;5;241m25\u001b[39m}\n\u001b[0;32m      2\u001b[0m string \u001b[38;5;241m=\u001b[39m \u001b[38;5;124m\"\u001b[39m\u001b[38;5;124mName: \u001b[39m\u001b[38;5;132;01m{name}\u001b[39;00m\u001b[38;5;124m, Age: \u001b[39m\u001b[38;5;132;01m{age}\u001b[39;00m\u001b[38;5;124m\"\u001b[39m\n\u001b[1;32m----> 3\u001b[0m \u001b[38;5;28mprint\u001b[39m(string\u001b[38;5;241m.\u001b[39mformat_map(data))\n",
      "\u001b[1;31mLookupError\u001b[0m: unknown encoding: Name: Alice, Age: 25"
     ]
    }
   ],
   "source": [
    "data = {\"name\": \"Alice\", \"age\": 25}\n",
    "string = \"Name: {name}, Age: {age}\"\n",
    "print(string.format_map(data))"
   ]
  },
  {
   "cell_type": "code",
   "execution_count": null,
   "id": "0eb3e81d-0fd2-4766-8e49-6338bcf2b685",
   "metadata": {},
   "outputs": [],
   "source": [
    "# str.index(sub[, start[, end]])\n",
    "# Like find() but raises ValueError if not found."
   ]
  },
  {
   "cell_type": "code",
   "execution_count": 50,
   "id": "dc4e88eb-de1b-44b7-8c9f-80340f0d289f",
   "metadata": {},
   "outputs": [
    {
     "data": {
      "text/plain": [
       "9"
      ]
     },
     "execution_count": 50,
     "metadata": {},
     "output_type": "execute_result"
    }
   ],
   "source": [
    "string=\"anaconda python\"\n",
    "string.index(\"py\")"
   ]
  },
  {
   "cell_type": "code",
   "execution_count": null,
   "id": "32cdbf9e-b760-4685-a050-38878a024829",
   "metadata": {},
   "outputs": [],
   "source": [
    "# str.isalnum()\n",
    "# Returns True if all characters are alphanumeric."
   ]
  },
  {
   "cell_type": "code",
   "execution_count": 52,
   "id": "36a23354-1cef-4a03-bc43-d6e50d2546f2",
   "metadata": {},
   "outputs": [
    {
     "data": {
      "text/plain": [
       "True"
      ]
     },
     "execution_count": 52,
     "metadata": {},
     "output_type": "execute_result"
    }
   ],
   "source": [
    "string=\"python123\"\n",
    "string.isalnum()"
   ]
  },
  {
   "cell_type": "code",
   "execution_count": null,
   "id": "b6aa6b8d-eee6-422d-a16f-37ca47ff2f5e",
   "metadata": {},
   "outputs": [],
   "source": [
    "# str.isalpha()\n",
    "# Returns True if all characters are alphabetic."
   ]
  },
  {
   "cell_type": "code",
   "execution_count": 53,
   "id": "e4f4dff5-16dd-4517-9c3e-479947b7d917",
   "metadata": {},
   "outputs": [
    {
     "data": {
      "text/plain": [
       "False"
      ]
     },
     "execution_count": 53,
     "metadata": {},
     "output_type": "execute_result"
    }
   ],
   "source": [
    "string=\"hello khushi\"\n",
    "string.isalpha()\n",
    "# it has space so \"false\""
   ]
  },
  {
   "cell_type": "code",
   "execution_count": null,
   "id": "af3f4629-1cbc-4179-98fd-676f6894757a",
   "metadata": {},
   "outputs": [],
   "source": [
    "# str.isascii()\n",
    "# Returns True if all characters are ASCII."
   ]
  },
  {
   "cell_type": "code",
   "execution_count": 54,
   "id": "0f11e9e3-a2aa-46b3-b41a-0004cb8dc2c7",
   "metadata": {},
   "outputs": [
    {
     "data": {
      "text/plain": [
       "True"
      ]
     },
     "execution_count": 54,
     "metadata": {},
     "output_type": "execute_result"
    }
   ],
   "source": [
    "string=\"hello world\"\n",
    "string.isascii()"
   ]
  },
  {
   "cell_type": "code",
   "execution_count": null,
   "id": "a5547d8e-7892-4958-b724-a32b6cb11c4b",
   "metadata": {},
   "outputs": [],
   "source": [
    "# str.isdecimal()\n",
    "# Returns True if all characters are decimal characters."
   ]
  },
  {
   "cell_type": "code",
   "execution_count": 57,
   "id": "b7af27c6-3d5e-4627-aa3f-fd63c1cfeb08",
   "metadata": {},
   "outputs": [
    {
     "data": {
      "text/plain": [
       "True"
      ]
     },
     "execution_count": 57,
     "metadata": {},
     "output_type": "execute_result"
    }
   ],
   "source": [
    "string=\"123\"\n",
    "string.isdecimal()"
   ]
  },
  {
   "cell_type": "code",
   "execution_count": null,
   "id": "871e434c-6993-4584-af71-af70a99e8f06",
   "metadata": {},
   "outputs": [],
   "source": [
    "# str.isdigit()\n",
    "# Returns True if all characters are digits."
   ]
  },
  {
   "cell_type": "code",
   "execution_count": 58,
   "id": "86f1976e-5af7-4b09-bbe8-961ab201e826",
   "metadata": {},
   "outputs": [
    {
     "data": {
      "text/plain": [
       "True"
      ]
     },
     "execution_count": 58,
     "metadata": {},
     "output_type": "execute_result"
    }
   ],
   "source": [
    "string=\"123456\"\n",
    "string.isdigit()"
   ]
  },
  {
   "cell_type": "code",
   "execution_count": null,
   "id": "78beeb10-2d2f-45c9-bdab-369886918eab",
   "metadata": {},
   "outputs": [],
   "source": [
    "# str.isidentifier()\n",
    "# Returns True if string is a valid identifier."
   ]
  },
  {
   "cell_type": "code",
   "execution_count": 59,
   "id": "414fdc4c-6d74-4177-888f-fdd2f9aa1863",
   "metadata": {},
   "outputs": [
    {
     "data": {
      "text/plain": [
       "True"
      ]
     },
     "execution_count": 59,
     "metadata": {},
     "output_type": "execute_result"
    }
   ],
   "source": [
    "string=\"world_lily\"\n",
    "string.isidentifier()"
   ]
  },
  {
   "cell_type": "code",
   "execution_count": null,
   "id": "8aad87eb-89d5-46a0-b798-ba5223244c68",
   "metadata": {},
   "outputs": [],
   "source": [
    "# str.islower()\n",
    "# Returns True if all characters are lowercase."
   ]
  },
  {
   "cell_type": "code",
   "execution_count": 60,
   "id": "e28a8b7c-6dc2-4ac8-ab7f-416eff9c80b8",
   "metadata": {},
   "outputs": [
    {
     "data": {
      "text/plain": [
       "True"
      ]
     },
     "execution_count": 60,
     "metadata": {},
     "output_type": "execute_result"
    }
   ],
   "source": [
    "string=\"khushi\"\n",
    "string.islower()"
   ]
  },
  {
   "cell_type": "code",
   "execution_count": null,
   "id": "93aa98e5-01d0-4d2e-bc23-18018916b639",
   "metadata": {},
   "outputs": [],
   "source": [
    "# str.isnumeric()\n",
    "# Returns True if all characters are numeric."
   ]
  },
  {
   "cell_type": "code",
   "execution_count": 61,
   "id": "9cebe2bd-63df-48c5-b822-a50c68819601",
   "metadata": {},
   "outputs": [
    {
     "data": {
      "text/plain": [
       "True"
      ]
     },
     "execution_count": 61,
     "metadata": {},
     "output_type": "execute_result"
    }
   ],
   "source": [
    "string=\"2469\"\n",
    "string.isnumeric()"
   ]
  },
  {
   "cell_type": "code",
   "execution_count": null,
   "id": "c8b5f14b-a38c-4bf4-ae70-e0621b4c8710",
   "metadata": {},
   "outputs": [],
   "source": [
    "# str.isprintable()\n",
    "# Returns True if all characters are printable."
   ]
  },
  {
   "cell_type": "code",
   "execution_count": 62,
   "id": "102f10a8-4e8f-4533-8113-0b822d567de1",
   "metadata": {},
   "outputs": [
    {
     "data": {
      "text/plain": [
       "False"
      ]
     },
     "execution_count": 62,
     "metadata": {},
     "output_type": "execute_result"
    }
   ],
   "source": [
    "string=\"khushi\\tsuman\\tlily\"\n",
    "string.isprintable()\n",
    "# \"\\t\" is not printable."
   ]
  },
  {
   "cell_type": "code",
   "execution_count": null,
   "id": "e8e4d95d-5de4-4b3a-8f4b-e0bd3e49dc0f",
   "metadata": {},
   "outputs": [],
   "source": [
    "# str.isspace()\n",
    "# Returns True if all characters are whitespace."
   ]
  },
  {
   "cell_type": "code",
   "execution_count": 67,
   "id": "7650774e-8bab-4e58-9873-819e1abc6798",
   "metadata": {},
   "outputs": [
    {
     "data": {
      "text/plain": [
       "True"
      ]
     },
     "execution_count": 67,
     "metadata": {},
     "output_type": "execute_result"
    }
   ],
   "source": [
    "string=\"\\n\"\n",
    "string.isspace()"
   ]
  },
  {
   "cell_type": "code",
   "execution_count": null,
   "id": "f5ac0423-4606-4bef-a877-a9b9ec14406f",
   "metadata": {},
   "outputs": [],
   "source": [
    "# str.istitle()\n",
    "# Returns True if the string is titlecased."
   ]
  },
  {
   "cell_type": "code",
   "execution_count": 68,
   "id": "98886099-f85a-42ae-b3f4-47b457f3b38c",
   "metadata": {},
   "outputs": [
    {
     "data": {
      "text/plain": [
       "True"
      ]
     },
     "execution_count": 68,
     "metadata": {},
     "output_type": "execute_result"
    }
   ],
   "source": [
    "string=\"All Letter Are Title\"\n",
    "string.istitle()"
   ]
  },
  {
   "cell_type": "code",
   "execution_count": null,
   "id": "910c6651-1f32-48e8-972f-0cd770fffa2b",
   "metadata": {},
   "outputs": [],
   "source": [
    "# str.isupper()\n",
    "# Returns True if all characters are uppercase."
   ]
  },
  {
   "cell_type": "code",
   "execution_count": 69,
   "id": "3734e03c-4a03-4c1a-a77a-479ea313665a",
   "metadata": {},
   "outputs": [
    {
     "data": {
      "text/plain": [
       "False"
      ]
     },
     "execution_count": 69,
     "metadata": {},
     "output_type": "execute_result"
    }
   ],
   "source": [
    "string=\"all characters are not in upper case\"\n",
    "string.isupper()"
   ]
  },
  {
   "cell_type": "code",
   "execution_count": null,
   "id": "1b7a1740-95c9-4679-b2fc-ba9ae937fdea",
   "metadata": {},
   "outputs": [],
   "source": [
    "# str.join(iterable)\n",
    "# Joins elements of an iterable with the string as a separator."
   ]
  },
  {
   "cell_type": "code",
   "execution_count": 118,
   "id": "2d338bb4-fdb6-42ac-8a7a-45db696cb2c3",
   "metadata": {},
   "outputs": [
    {
     "data": {
      "text/plain": [
       "'ahello augustphello augustphello augustlhello augustehello august,hello augustbhello augustahello augustnhello augustahello augustnhello augustahello august,hello augustfhello augustrhello augustuhello augustihello augustthello augusts'"
      ]
     },
     "execution_count": 118,
     "metadata": {},
     "output_type": "execute_result"
    }
   ],
   "source": [
    "items = [\"apple\", \"banana\", \"cherry\"]\n",
    "print(\"-\".join(items))"
   ]
  },
  {
   "cell_type": "code",
   "execution_count": null,
   "id": "e26aa106-77e2-46eb-a7c8-43b366dbf06c",
   "metadata": {},
   "outputs": [],
   "source": [
    "# str.ljust(width[, fillchar])\n",
    "# Left-justifies the string."
   ]
  },
  {
   "cell_type": "code",
   "execution_count": 74,
   "id": "a5f1d35f-61ae-4ab4-8e89-a88b6d2efc4c",
   "metadata": {},
   "outputs": [
    {
     "data": {
      "text/plain": [
       "'cat       '"
      ]
     },
     "execution_count": 74,
     "metadata": {},
     "output_type": "execute_result"
    }
   ],
   "source": [
    "string=\"cat\"\n",
    "string.ljust(10)"
   ]
  },
  {
   "cell_type": "code",
   "execution_count": null,
   "id": "94a77e49-b62d-4033-8f1a-cd55ff70745f",
   "metadata": {},
   "outputs": [],
   "source": [
    "# str.lower()\n",
    "# Converts to lowercase."
   ]
  },
  {
   "cell_type": "code",
   "execution_count": 75,
   "id": "6f793200-ac68-414e-bcf6-d38204e158e1",
   "metadata": {},
   "outputs": [
    {
     "data": {
      "text/plain": [
       "'i just want a break'"
      ]
     },
     "execution_count": 75,
     "metadata": {},
     "output_type": "execute_result"
    }
   ],
   "source": [
    "string=\"I JUST WANT A BREAK\"\n",
    "string.lower()"
   ]
  },
  {
   "cell_type": "code",
   "execution_count": null,
   "id": "03412750-5469-40b8-94fc-adf6ed610359",
   "metadata": {},
   "outputs": [],
   "source": [
    "# str.lstrip([chars])\n",
    "# Removes leading characters (default: whitespace)."
   ]
  },
  {
   "cell_type": "code",
   "execution_count": 78,
   "id": "2c459dea-5656-40f3-b7d4-366f11756d31",
   "metadata": {},
   "outputs": [
    {
     "data": {
      "text/plain": [
       "'galaxy '"
      ]
     },
     "execution_count": 78,
     "metadata": {},
     "output_type": "execute_result"
    }
   ],
   "source": [
    "string=\"      galaxy \"\n",
    "string.lstrip()"
   ]
  },
  {
   "cell_type": "code",
   "execution_count": 81,
   "id": "00ead6f4-ee91-4616-90b9-fa3e0856f34a",
   "metadata": {},
   "outputs": [
    {
     "data": {
      "text/plain": [
       "'moon'"
      ]
     },
     "execution_count": 81,
     "metadata": {},
     "output_type": "execute_result"
    }
   ],
   "source": [
    "string=\"kyumoon\"\n",
    "string.lstrip(\"kyu\")"
   ]
  },
  {
   "cell_type": "code",
   "execution_count": null,
   "id": "a2fcff34-4f29-4066-865f-31c0ab1dae6e",
   "metadata": {},
   "outputs": [],
   "source": [
    "# str.maketrans(x, y=None, z=None)\n",
    "# Returns a translation table."
   ]
  },
  {
   "cell_type": "code",
   "execution_count": 84,
   "id": "6557a038-8bc0-4ab8-91d4-06b2c6095e06",
   "metadata": {},
   "outputs": [
    {
     "data": {
      "text/plain": [
       "{97: '1', 98: '2'}"
      ]
     },
     "execution_count": 84,
     "metadata": {},
     "output_type": "execute_result"
    }
   ],
   "source": [
    "str.maketrans({'a': '1', 'b': '2'})"
   ]
  },
  {
   "cell_type": "code",
   "execution_count": null,
   "id": "072b5584-b371-4cba-b157-66fb65ce7330",
   "metadata": {},
   "outputs": [],
   "source": [
    "# str.partition(sep)\n",
    "# Splits the string at the first occurrence of sep."
   ]
  },
  {
   "cell_type": "code",
   "execution_count": 86,
   "id": "840122ef-6136-46c7-b642-b65d0d858923",
   "metadata": {},
   "outputs": [
    {
     "data": {
      "text/plain": [
       "('apple', '#', 'banana#cherry')"
      ]
     },
     "execution_count": 86,
     "metadata": {},
     "output_type": "execute_result"
    }
   ],
   "source": [
    "string=\"apple#banana#cherry\"\n",
    "string.partition(\"#\")"
   ]
  },
  {
   "cell_type": "code",
   "execution_count": null,
   "id": "655fe3e4-d08e-4584-9d0d-c65f4069ec03",
   "metadata": {},
   "outputs": [],
   "source": [
    "# str.removeprefix(prefix)\n",
    "# Removes the specified prefix if present."
   ]
  },
  {
   "cell_type": "code",
   "execution_count": 88,
   "id": "4ef377e5-2b8b-4989-bbeb-d217a86f130f",
   "metadata": {},
   "outputs": [
    {
     "data": {
      "text/plain": [
       "'satisfied'"
      ]
     },
     "execution_count": 88,
     "metadata": {},
     "output_type": "execute_result"
    }
   ],
   "source": [
    "string=\"unsatisfied\"\n",
    "string.removeprefix(\"un\")"
   ]
  },
  {
   "cell_type": "code",
   "execution_count": null,
   "id": "5dd7e745-bd40-4684-904a-00531fea0054",
   "metadata": {},
   "outputs": [],
   "source": [
    "# str.removesuffix(suffix)\n",
    "# Removes the specified suffix if present."
   ]
  },
  {
   "cell_type": "code",
   "execution_count": 90,
   "id": "11bf108f-d98f-4853-90c7-b73f49713c32",
   "metadata": {},
   "outputs": [
    {
     "data": {
      "text/plain": [
       "'python'"
      ]
     },
     "execution_count": 90,
     "metadata": {},
     "output_type": "execute_result"
    }
   ],
   "source": [
    "string=\"python.txt\"\n",
    "string.removesuffix(\"str.replace(old, new[, count])\n",
    "Returns a copy with all occurrences of a substring replaced.\")"
   ]
  },
  {
   "cell_type": "code",
   "execution_count": null,
   "id": "db013821-8b92-4d7f-83e9-2ccf1a6fc762",
   "metadata": {},
   "outputs": [],
   "source": [
    "# str.replace(old, new[, count])\n",
    "# Returns a copy with all occurrences of a substring replaced."
   ]
  },
  {
   "cell_type": "code",
   "execution_count": 93,
   "id": "ea06addf-b5e9-4c64-a916-1c9d89760e24",
   "metadata": {},
   "outputs": [
    {
     "data": {
      "text/plain": [
       "'banana'"
      ]
     },
     "execution_count": 93,
     "metadata": {},
     "output_type": "execute_result"
    }
   ],
   "source": [
    "string=\"bonono\"\n",
    "string.replace(\"o\",\"a\")"
   ]
  },
  {
   "cell_type": "code",
   "execution_count": null,
   "id": "bb42ce91-6a88-47a6-a972-7da649072744",
   "metadata": {},
   "outputs": [],
   "source": [
    "# str.rfind(sub[, start[, end]])\n",
    "# Returns the highest index of the substring."
   ]
  },
  {
   "cell_type": "code",
   "execution_count": 94,
   "id": "ce89773b-fbc7-4bb1-b527-2523fd2abf45",
   "metadata": {},
   "outputs": [
    {
     "data": {
      "text/plain": [
       "0"
      ]
     },
     "execution_count": 94,
     "metadata": {},
     "output_type": "execute_result"
    }
   ],
   "source": [
    "string=\"hello world\"\n",
    "string.rfind(\"hello\")"
   ]
  },
  {
   "cell_type": "code",
   "execution_count": null,
   "id": "dcb8dd64-97d8-49a1-be65-2ac1a2fe500b",
   "metadata": {},
   "outputs": [],
   "source": [
    "# str.rindex(sub[, start[, end]])\n",
    "# Like rfind() but raises ValueError if not found."
   ]
  },
  {
   "cell_type": "code",
   "execution_count": 97,
   "id": "a0f5c100-1e10-48b5-809f-ba124120f64c",
   "metadata": {},
   "outputs": [
    {
     "data": {
      "text/plain": [
       "6"
      ]
     },
     "execution_count": 97,
     "metadata": {},
     "output_type": "execute_result"
    }
   ],
   "source": [
    "string=\"sriya is not found\"\n",
    "string.rindex(\"is\")"
   ]
  },
  {
   "cell_type": "code",
   "execution_count": null,
   "id": "18fc8747-bcc7-401f-8c55-d579aee6c21e",
   "metadata": {},
   "outputs": [],
   "source": [
    "# str.rjust(width[, fillchar])\n",
    "# Right-justifies the string."
   ]
  },
  {
   "cell_type": "code",
   "execution_count": 98,
   "id": "54327392-e450-4dbc-968e-4aa0159160aa",
   "metadata": {},
   "outputs": [
    {
     "data": {
      "text/plain": [
       "'                                                     you'"
      ]
     },
     "execution_count": 98,
     "metadata": {},
     "output_type": "execute_result"
    }
   ],
   "source": [
    "string=\"you\"\n",
    "string.rjust(56)"
   ]
  },
  {
   "cell_type": "code",
   "execution_count": null,
   "id": "60bf5634-02f7-47f8-ad4c-522a465be055",
   "metadata": {},
   "outputs": [],
   "source": [
    "# str.rsplit(sep=None, maxsplit=-1)\n",
    "# Splits the string from the right."
   ]
  },
  {
   "cell_type": "code",
   "execution_count": 100,
   "id": "fa52468c-9d83-4581-92ad-68965ec28677",
   "metadata": {},
   "outputs": [
    {
     "data": {
      "text/plain": [
       "['hello', 'coder', 'india']"
      ]
     },
     "execution_count": 100,
     "metadata": {},
     "output_type": "execute_result"
    }
   ],
   "source": [
    "string=\"hello,coder,india\"\n",
    "string.rsplit(\",\")"
   ]
  },
  {
   "cell_type": "code",
   "execution_count": null,
   "id": "21b4b47d-6ea6-4664-bcd7-3e4ace91f474",
   "metadata": {},
   "outputs": [],
   "source": [
    "# str.rstrip([chars])\n",
    "# Removes trailing characters (default: whitespace)."
   ]
  },
  {
   "cell_type": "code",
   "execution_count": 101,
   "id": "cdfe4642-25c6-4864-add9-72fc89844d61",
   "metadata": {},
   "outputs": [
    {
     "data": {
      "text/plain": [
       "'hello'"
      ]
     },
     "execution_count": 101,
     "metadata": {},
     "output_type": "execute_result"
    }
   ],
   "source": [
    "string=\"hello......!!!!!!!\"\n",
    "string.strip(\".!\")"
   ]
  },
  {
   "cell_type": "code",
   "execution_count": null,
   "id": "7391d85d-84af-460d-a99b-8a0fc878c569",
   "metadata": {},
   "outputs": [],
   "source": [
    "# str.split(sep=None, maxsplit=-1)\n",
    "# Splits the string."
   ]
  },
  {
   "cell_type": "code",
   "execution_count": 106,
   "id": "4c074784-cfe4-46a7-a2ee-8cd3c9e2a497",
   "metadata": {},
   "outputs": [
    {
     "data": {
      "text/plain": [
       "['0ne', 'two', 'three-four']"
      ]
     },
     "execution_count": 106,
     "metadata": {},
     "output_type": "execute_result"
    }
   ],
   "source": [
    "string=\"0ne-two-three-four\"\n",
    "string.split(\"-\", 2)"
   ]
  },
  {
   "cell_type": "code",
   "execution_count": null,
   "id": "83836be9-b051-43f5-9d6d-d917fbf77de9",
   "metadata": {},
   "outputs": [],
   "source": [
    "# str.splitlines([keepends])\n",
    "# Splits at line breaks."
   ]
  },
  {
   "cell_type": "code",
   "execution_count": 108,
   "id": "4b3c95a4-7c54-464e-a4b6-a39637852221",
   "metadata": {},
   "outputs": [
    {
     "data": {
      "text/plain": [
       "['First line', 'Second line', 'Third line']"
      ]
     },
     "execution_count": 108,
     "metadata": {},
     "output_type": "execute_result"
    }
   ],
   "source": [
    "string = \"First line\\nSecond line\\nThird line\"\n",
    "string.splitlines()"
   ]
  },
  {
   "cell_type": "code",
   "execution_count": null,
   "id": "7c9817c2-69de-4d1f-8e2d-df0f2b9e45b9",
   "metadata": {},
   "outputs": [],
   "source": [
    "# str.startswith(prefix[, start[, end]])\n",
    "# Returns True if the string starts with the prefix."
   ]
  },
  {
   "cell_type": "code",
   "execution_count": 109,
   "id": "5fb40256-2d9f-46b2-8df4-b2ed5530fd47",
   "metadata": {},
   "outputs": [
    {
     "data": {
      "text/plain": [
       "False"
      ]
     },
     "execution_count": 109,
     "metadata": {},
     "output_type": "execute_result"
    }
   ],
   "source": [
    "string=\"hii june\"\n",
    "string.startswith(\"june\")"
   ]
  },
  {
   "cell_type": "code",
   "execution_count": null,
   "id": "2ee89e4e-d588-4331-b9be-b1d8c034df25",
   "metadata": {},
   "outputs": [],
   "source": [
    "# str.strip([chars])\n",
    "# Removes leading and trailing characters."
   ]
  },
  {
   "cell_type": "code",
   "execution_count": 110,
   "id": "88b5b023-3ad6-47ee-8d23-fb7a04e97255",
   "metadata": {},
   "outputs": [
    {
     "data": {
      "text/plain": [
       "'hello world'"
      ]
     },
     "execution_count": 110,
     "metadata": {},
     "output_type": "execute_result"
    }
   ],
   "source": [
    "string=\"    hello world     \"\n",
    "string.strip()"
   ]
  },
  {
   "cell_type": "code",
   "execution_count": null,
   "id": "bc7cb79a-99cf-4658-90b7-eb7cbf2e4873",
   "metadata": {},
   "outputs": [],
   "source": [
    "# str.swapcase()\n",
    "# Swaps case of all characters."
   ]
  },
  {
   "cell_type": "code",
   "execution_count": 111,
   "id": "e10eee36-bec9-4bf7-8060-d0be7495eb39",
   "metadata": {},
   "outputs": [
    {
     "data": {
      "text/plain": [
       "'hELLO wORLD'"
      ]
     },
     "execution_count": 111,
     "metadata": {},
     "output_type": "execute_result"
    }
   ],
   "source": [
    "string=\"Hello World\"\n",
    "string.swapcase()"
   ]
  },
  {
   "cell_type": "code",
   "execution_count": null,
   "id": "e09af780-aff4-456e-aa47-f80399dce537",
   "metadata": {},
   "outputs": [],
   "source": [
    "# str.title()\n",
    "# Returns a titlecased version of the string."
   ]
  },
  {
   "cell_type": "code",
   "execution_count": 112,
   "id": "bf7a8197-d0fd-481d-a3a5-eac1c3dbe295",
   "metadata": {},
   "outputs": [
    {
     "data": {
      "text/plain": [
       "'Khushi Title'"
      ]
     },
     "execution_count": 112,
     "metadata": {},
     "output_type": "execute_result"
    }
   ],
   "source": [
    "string=\"khushi title\"\n",
    "string.title()"
   ]
  },
  {
   "cell_type": "code",
   "execution_count": null,
   "id": "2b3133cd-adb4-48bf-9beb-b32b724526ee",
   "metadata": {},
   "outputs": [],
   "source": [
    "# str.translate(table)\n",
    "# Returns a translated string."
   ]
  },
  {
   "cell_type": "code",
   "execution_count": 116,
   "id": "147d8029-2c99-4104-9809-24edf5f6000e",
   "metadata": {},
   "outputs": [
    {
     "data": {
      "text/plain": [
       "'123de'"
      ]
     },
     "execution_count": 116,
     "metadata": {},
     "output_type": "execute_result"
    }
   ],
   "source": [
    "text = \"abcde\"\n",
    "table = str.maketrans(\"abc\", \"123\")\n",
    "text.translate(table)"
   ]
  },
  {
   "cell_type": "code",
   "execution_count": null,
   "id": "114617d7-ac47-4025-97ef-237fe190aa90",
   "metadata": {},
   "outputs": [],
   "source": [
    "# str.upper()\n",
    "# Converts all characters to uppercase."
   ]
  },
  {
   "cell_type": "code",
   "execution_count": 119,
   "id": "bcb5d4f5-1081-4fa5-8aaf-28abc510f5eb",
   "metadata": {},
   "outputs": [
    {
     "data": {
      "text/plain": [
       "'CONVERTS ALL CHARACTERS TO UPPERCASE'"
      ]
     },
     "execution_count": 119,
     "metadata": {},
     "output_type": "execute_result"
    }
   ],
   "source": [
    "string=\"Converts all characters to uppercase\"\n",
    "string.upper()"
   ]
  },
  {
   "cell_type": "code",
   "execution_count": null,
   "id": "6099daa7-9ab0-4b9c-8446-54334005fcd9",
   "metadata": {},
   "outputs": [],
   "source": [
    "# str.zfill(width)\n",
    "# Pads the string on the left with zeros."
   ]
  },
  {
   "cell_type": "code",
   "execution_count": 121,
   "id": "95463e28-5374-4fbb-9e85-a86ccc5c32b4",
   "metadata": {},
   "outputs": [
    {
     "data": {
      "text/plain": [
       "'00000678'"
      ]
     },
     "execution_count": 121,
     "metadata": {},
     "output_type": "execute_result"
    }
   ],
   "source": [
    "string=\"678\"\n",
    "string.zfill(8)"
   ]
  },
  {
   "cell_type": "code",
   "execution_count": null,
   "id": "47bd2ad2-e42a-466a-8038-5eef19e4a81e",
   "metadata": {},
   "outputs": [],
   "source": []
  }
 ],
 "metadata": {
  "kernelspec": {
   "display_name": "Python [conda env:base] *",
   "language": "python",
   "name": "conda-base-py"
  },
  "language_info": {
   "codemirror_mode": {
    "name": "ipython",
    "version": 3
   },
   "file_extension": ".py",
   "mimetype": "text/x-python",
   "name": "python",
   "nbconvert_exporter": "python",
   "pygments_lexer": "ipython3",
   "version": "3.13.5"
  }
 },
 "nbformat": 4,
 "nbformat_minor": 5
}
