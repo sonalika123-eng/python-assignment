{
 "cells": [
  {
   "cell_type": "code",
   "execution_count": 4,
   "id": "d58f0f77-ab08-438a-9ae4-e7127a423bc4",
   "metadata": {},
   "outputs": [
    {
     "name": "stdin",
     "output_type": "stream",
     "text": [
      "Enter company address:   A/52 Sector  16 Noida UP\n",
      "Enter candidate's full name:  Rohit Kumar\n",
      "Enter job title:  Python Developer\n",
      "Enter joining date (DD-MM-YYYY):  12-12-2012\n",
      "Enter total compensation package:  50000\n",
      "Enter contact email for confirmation:  rohitkumar342@gmail.com\n",
      "Enter HR signatory name:  Sonalika Behera\n",
      "Enter HR signatory title:  HR Manager\n"
     ]
    },
    {
     "name": "stdout",
     "output_type": "stream",
     "text": [
      "\n",
      "--- Offer Letter ---\n",
      "\n",
      " A/52 Sector  16 Noida UP\n",
      "\n",
      "Dear Rohit Kumar,\n",
      "\n",
      "Subject: Offer of Employment for the position of Python Developer\n",
      "\n",
      "We are delighted to extend this formal offer of employment to you for the position of Python Developer at our organization. Based on your qualifications and the skills you demonstrated during the recruitment process, we are confident that you will be a valuable addition to our team.\n",
      "\n",
      "As discussed, your expected date of joining is 12-12-2012. Your total compensation package will be 50000, which includes all salary components as per the company’s policy. Further details regarding your compensation will be provided in your employment contract.\n",
      "\n",
      "We expect you to bring your best efforts to help the company achieve its goals, and we are committed to supporting your professional growth during your time with us.\n",
      "\n",
      "Please confirm your acceptance of this offer by sending an email to rohitkumar342@gmail.com at your earliest convenience. Should you have any queries regarding this offer, feel free to reach out to us.\n",
      "\n",
      "We look forward to having you onboard and are excited about the great things we can accomplish together.\n",
      "\n",
      "Sincerely,\n",
      "\n",
      "Sonalika Behera  \n",
      "HR Manager\n",
      "\n"
     ]
    }
   ],
   "source": [
    "def create_offer_letter():\n",
    "    # Collect input from user\n",
    "    company_address = input(\"Enter company address: \")\n",
    "    candidate_name = input(\"Enter candidate's full name: \")\n",
    "    job_title = input(\"Enter job title: \")\n",
    "    joining_date = input(\"Enter joining date (DD-MM-YYYY): \")\n",
    "    compensation_package = input(\"Enter total compensation package: \")\n",
    "    contact_email = input(\"Enter contact email for confirmation: \")\n",
    "    signatory_name = input(\"Enter HR signatory name: \")\n",
    "    signatory_title = input(\"Enter HR signatory title: \")\n",
    "\n",
    "    # it will generate the offer letter\n",
    "    offer_letter = f\"\"\"\n",
    "{company_address}\n",
    "\n",
    "Dear {candidate_name},\n",
    "\n",
    "Subject: Offer of Employment for the position of {job_title}\n",
    "\n",
    "We are delighted to extend this formal offer of employment to you for the position of {job_title} at our organization. Based on your qualifications and the skills you demonstrated during the recruitment process, we are confident that you will be a valuable addition to our team.\n",
    "\n",
    "As discussed, your expected date of joining is {joining_date}. Your total compensation package will be {compensation_package}, which includes all salary components as per the company’s policy. Further details regarding your compensation will be provided in your employment contract.\n",
    "\n",
    "We expect you to bring your best efforts to help the company achieve its goals, and we are committed to supporting your professional growth during your time with us.\n",
    "\n",
    "Please confirm your acceptance of this offer by sending an email to {contact_email} at your earliest convenience. Should you have any queries regarding this offer, feel free to reach out to us.\n",
    "\n",
    "We look forward to having you onboard and are excited about the great things we can accomplish together.\n",
    "\n",
    "Sincerely,\n",
    "\n",
    "{signatory_name}  \n",
    "{signatory_title}\n",
    "\"\"\"\n",
    "\n",
    "    print(\"\\n--- Offer Letter ---\")\n",
    "    print(offer_letter)\n",
    "\n",
    "# Run the function\n",
    "create_offer_letter()"
   ]
  },
  {
   "cell_type": "code",
   "execution_count": null,
   "id": "7cd05016-b67f-4061-84d0-9afc48e3cf82",
   "metadata": {},
   "outputs": [],
   "source": []
  }
 ],
 "metadata": {
  "kernelspec": {
   "display_name": "Python [conda env:base] *",
   "language": "python",
   "name": "conda-base-py"
  },
  "language_info": {
   "codemirror_mode": {
    "name": "ipython",
    "version": 3
   },
   "file_extension": ".py",
   "mimetype": "text/x-python",
   "name": "python",
   "nbconvert_exporter": "python",
   "pygments_lexer": "ipython3",
   "version": "3.13.5"
  }
 },
 "nbformat": 4,
 "nbformat_minor": 5
}
