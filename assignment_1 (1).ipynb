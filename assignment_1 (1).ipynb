{
 "cells": [
  {
   "cell_type": "code",
   "execution_count": 40,
   "id": "73c93822-f0dc-48f7-8e6d-b5a8a0983a2c",
   "metadata": {},
   "outputs": [],
   "source": [
    "#1. After running the following code, what does the variable bacon contain?\n",
    "# bacon=22\n",
    "# bacon+1"
   ]
  },
  {
   "cell_type": "code",
   "execution_count": 41,
   "id": "bc4a410f-2501-4610-868c-c711aab99cd2",
   "metadata": {},
   "outputs": [
    {
     "data": {
      "text/plain": [
       "23"
      ]
     },
     "execution_count": 41,
     "metadata": {},
     "output_type": "execute_result"
    }
   ],
   "source": [
    "bacon=22\n",
    "# Assign the value 22 to the variable bacon contain\n",
    "bacon+1\n",
    "# evaluates to 23 , but does not change bacon;"
   ]
  },
  {
   "cell_type": "code",
   "execution_count": 43,
   "id": "891913f4-830f-48b5-b772-9fd07d5ebbda",
   "metadata": {},
   "outputs": [
    {
     "data": {
      "text/plain": [
       "22"
      ]
     },
     "execution_count": 43,
     "metadata": {},
     "output_type": "execute_result"
    }
   ],
   "source": [
    "bacon\n",
    "# bacon contains 22"
   ]
  },
  {
   "cell_type": "code",
   "execution_count": 12,
   "id": "af6822b0-65cd-481d-a869-b5e2f2da02ee",
   "metadata": {},
   "outputs": [
    {
     "name": "stdout",
     "output_type": "stream",
     "text": [
      "spamspamspam\n"
     ]
    }
   ],
   "source": [
    "# 2.What should the values of the following two terms be?\n",
    "\n",
    "n='spam'+'spamspam'\n",
    "print(n)"
   ]
  },
  {
   "cell_type": "code",
   "execution_count": 9,
   "id": "96b52634-3ba4-4cb2-933e-88733e437998",
   "metadata": {},
   "outputs": [
    {
     "name": "stdout",
     "output_type": "stream",
     "text": [
      "spamspamspam\n"
     ]
    }
   ],
   "source": [
    "n='spam' * 3\n",
    "print(n)"
   ]
  },
  {
   "cell_type": "code",
   "execution_count": null,
   "id": "252d7178-fa7b-45e1-b8f7-e4b42d4241e6",
   "metadata": {},
   "outputs": [],
   "source": [
    " # 3.Why is eggs a valid variable name while 100 is invalid?\n",
    "# variable names stars with letters (a–z, A–Z), numbers, and underscores—which are the allowed characters.\n",
    "#  100 is invalid because its just a number"
   ]
  },
  {
   "cell_type": "code",
   "execution_count": 54,
   "id": "cfeac34c-6af6-4e75-9ac5-15d637c28906",
   "metadata": {},
   "outputs": [
    {
     "name": "stdout",
     "output_type": "stream",
     "text": [
      "5\n"
     ]
    }
   ],
   "source": [
    "eggs=5\n",
    "# its valid because it contains 1st letter with \"e\"\n",
    "print(eggs)"
   ]
  },
  {
   "cell_type": "code",
   "execution_count": 55,
   "id": "07acd7f3-12d9-4bb6-872f-9966f4c153c3",
   "metadata": {},
   "outputs": [
    {
     "ename": "SyntaxError",
     "evalue": "cannot assign to literal here. Maybe you meant '==' instead of '='? (1540591047.py, line 1)",
     "output_type": "error",
     "traceback": [
      "\u001b[1;36m  Cell \u001b[1;32mIn[55], line 1\u001b[1;36m\u001b[0m\n\u001b[1;33m    100=\"suman\"\u001b[0m\n\u001b[1;37m    ^\u001b[0m\n\u001b[1;31mSyntaxError\u001b[0m\u001b[1;31m:\u001b[0m cannot assign to literal here. Maybe you meant '==' instead of '='?\n"
     ]
    }
   ],
   "source": [
    "100=\"suman\"\n",
    "# its invalid because 100 is a number\n",
    "print(100)"
   ]
  },
  {
   "cell_type": "code",
   "execution_count": null,
   "id": "4ded2105-dfda-4915-a729-32b364c1f14c",
   "metadata": {},
   "outputs": [],
   "source": [
    "# 4. In the below elements which of them are values or an expression? eg:- values can be integer or string and expressions will be mathematical operators.\n",
    "# *\n",
    "# 'hello'\n",
    "# -87.8\n",
    "# -\n",
    "# /\n",
    "# +\n",
    "# 6"
   ]
  },
  {
   "cell_type": "code",
   "execution_count": 15,
   "id": "0ca133ce-1385-4eef-aafb-2ad7d1c4adaa",
   "metadata": {},
   "outputs": [
    {
     "name": "stdout",
     "output_type": "stream",
     "text": [
      "<class 'int'>\n"
     ]
    }
   ],
   "source": [
    "name= 2*3\n",
    "# its an expression\n",
    "print(type(name))"
   ]
  },
  {
   "cell_type": "code",
   "execution_count": 16,
   "id": "8b2d818e-9aeb-49ae-b7ca-2948dae494a9",
   "metadata": {},
   "outputs": [
    {
     "data": {
      "text/plain": [
       "str"
      ]
     },
     "execution_count": 16,
     "metadata": {},
     "output_type": "execute_result"
    }
   ],
   "source": [
    "name='hello'\n",
    "# its a value\n",
    "type(name)"
   ]
  },
  {
   "cell_type": "code",
   "execution_count": 17,
   "id": "c6edabe7-9e63-4868-a23e-7e9b41620db9",
   "metadata": {},
   "outputs": [
    {
     "data": {
      "text/plain": [
       "float"
      ]
     },
     "execution_count": 17,
     "metadata": {},
     "output_type": "execute_result"
    }
   ],
   "source": [
    "name=-87.8\n",
    "# its a value\n",
    "type(name)"
   ]
  },
  {
   "cell_type": "code",
   "execution_count": 18,
   "id": "1eb0cf49-62d7-4180-831f-543761ccd440",
   "metadata": {},
   "outputs": [
    {
     "data": {
      "text/plain": [
       "int"
      ]
     },
     "execution_count": 18,
     "metadata": {},
     "output_type": "execute_result"
    }
   ],
   "source": [
    "name=7-2\n",
    "# its an expression\n",
    "type(name)"
   ]
  },
  {
   "cell_type": "code",
   "execution_count": 19,
   "id": "14e78b4a-ee47-495b-97a3-c339e54517e4",
   "metadata": {},
   "outputs": [
    {
     "data": {
      "text/plain": [
       "float"
      ]
     },
     "execution_count": 19,
     "metadata": {},
     "output_type": "execute_result"
    }
   ],
   "source": [
    "name=7/2\n",
    "# its an expression\n",
    "type(name)"
   ]
  },
  {
   "cell_type": "code",
   "execution_count": 20,
   "id": "16ad4d26-087d-4711-8606-b482450e08df",
   "metadata": {},
   "outputs": [
    {
     "data": {
      "text/plain": [
       "int"
      ]
     },
     "execution_count": 20,
     "metadata": {},
     "output_type": "execute_result"
    }
   ],
   "source": [
    "name=7+2\n",
    "# its an expression\n",
    "type(name)"
   ]
  },
  {
   "cell_type": "code",
   "execution_count": 21,
   "id": "3ab07b2e-3d27-4d5b-b20a-c319f9f8e95d",
   "metadata": {},
   "outputs": [
    {
     "data": {
      "text/plain": [
       "int"
      ]
     },
     "execution_count": 21,
     "metadata": {},
     "output_type": "execute_result"
    }
   ],
   "source": [
    "name=6\n",
    "# its a value\n",
    "type(name)"
   ]
  },
  {
   "cell_type": "code",
   "execution_count": 22,
   "id": "9c640d45-6518-4a06-970f-d9a18ddb032c",
   "metadata": {},
   "outputs": [
    {
     "data": {
      "text/plain": [
       "str"
      ]
     },
     "execution_count": 22,
     "metadata": {},
     "output_type": "execute_result"
    }
   ],
   "source": [
    "# 5.What is the difference between string and variable?\n",
    "# string is a value\n",
    "name=\"I love coding\"\n",
    "type(name)"
   ]
  },
  {
   "cell_type": "code",
   "execution_count": 24,
   "id": "31acc4ac-6d92-45c9-ace9-e4eae1c0b259",
   "metadata": {},
   "outputs": [
    {
     "name": "stdout",
     "output_type": "stream",
     "text": [
      "vishal\n"
     ]
    }
   ],
   "source": [
    "# variable is a name that store value such as string,number,float,etc.\n",
    "name= \"vishal\"\n",
    "# \"name\" is a variable\n",
    "print(name)"
   ]
  },
  {
   "cell_type": "code",
   "execution_count": null,
   "id": "5f37c6e2-ea11-4e66-9f11-6754a3b37669",
   "metadata": {},
   "outputs": [],
   "source": [
    "# 6.Describe three different data types.\n",
    "# 1.Integer(int)\n",
    "# 2.float(float)\n",
    "# 3.boolean(bool)"
   ]
  },
  {
   "cell_type": "code",
   "execution_count": 25,
   "id": "c4251392-f5e7-4cdf-be80-279a84782ff6",
   "metadata": {},
   "outputs": [
    {
     "data": {
      "text/plain": [
       "int"
      ]
     },
     "execution_count": 25,
     "metadata": {},
     "output_type": "execute_result"
    }
   ],
   "source": [
    "# integer:- represnt whole numbers\n",
    "name= 4+5\n",
    "type(name)"
   ]
  },
  {
   "cell_type": "code",
   "execution_count": 26,
   "id": "1f63bf6d-67b2-448e-ab0d-1533dfa8808a",
   "metadata": {},
   "outputs": [
    {
     "data": {
      "text/plain": [
       "float"
      ]
     },
     "execution_count": 26,
     "metadata": {},
     "output_type": "execute_result"
    }
   ],
   "source": [
    "# float:- represent datatype with decimal\n",
    "name=465.77\n",
    "type(name)"
   ]
  },
  {
   "cell_type": "code",
   "execution_count": 27,
   "id": "60386e27-8cf4-4661-ae21-dd0bbab34c40",
   "metadata": {},
   "outputs": [
    {
     "name": "stdout",
     "output_type": "stream",
     "text": [
      "<class 'bool'>\n"
     ]
    }
   ],
   "source": [
    "# boolean:- give True or False value\n",
    "name=True\n",
    "print(type(True))"
   ]
  },
  {
   "cell_type": "code",
   "execution_count": null,
   "id": "b08c9904-2f43-4812-8143-8d5fbe00f71c",
   "metadata": {},
   "outputs": [],
   "source": [
    "# 7.What is an expression made up of? What do all expressions do?\n",
    "# An expression is a combination of values, variables, operators, and functions. \n",
    "# all expression evaluates to a single value which can be number,string or bollean.\n"
   ]
  },
  {
   "cell_type": "code",
   "execution_count": 31,
   "id": "2d9dcca1-98a9-499c-ab12-c25c23d4da6f",
   "metadata": {},
   "outputs": [
    {
     "name": "stdout",
     "output_type": "stream",
     "text": [
      "python\n"
     ]
    },
    {
     "data": {
      "text/plain": [
       "str"
      ]
     },
     "execution_count": 31,
     "metadata": {},
     "output_type": "execute_result"
    }
   ],
   "source": [
    "name=\"python\"\n",
    "# value= python $ variable=name\n",
    "print(name)\n",
    "type(name)"
   ]
  },
  {
   "cell_type": "code",
   "execution_count": 30,
   "id": "17a33460-8cf8-4c6d-a77f-2c655a34bb1f",
   "metadata": {},
   "outputs": [
    {
     "name": "stdout",
     "output_type": "stream",
     "text": [
      "10\n"
     ]
    },
    {
     "data": {
      "text/plain": [
       "int"
      ]
     },
     "execution_count": 30,
     "metadata": {},
     "output_type": "execute_result"
    }
   ],
   "source": [
    "name= 7+3\n",
    "# operator=\"+\"\n",
    "print(name)\n",
    "type(name)"
   ]
  },
  {
   "cell_type": "code",
   "execution_count": 38,
   "id": "50ea7ecb-d275-4c2b-88b8-0494a5657247",
   "metadata": {},
   "outputs": [
    {
     "name": "stdout",
     "output_type": "stream",
     "text": [
      "rohityadav\n"
     ]
    },
    {
     "data": {
      "text/plain": [
       "str"
      ]
     },
     "execution_count": 38,
     "metadata": {},
     "output_type": "execute_result"
    }
   ],
   "source": [
    "n= \"rohit\"\n",
    "m=\"yadav\"\n",
    "print(n+m)\n",
    "type(name)"
   ]
  },
  {
   "cell_type": "code",
   "execution_count": 70,
   "id": "f19a47c6-a53d-4bd7-acf0-da04f635dff3",
   "metadata": {},
   "outputs": [],
   "source": [
    "#8.This assignment statements, like spam = 10. What is the difference between an expression and a statement?\n",
    "\n",
    "# ans:- spam = 10 is a whole statement whereas \"=\" is an expression\n",
    "# all expressions can be a part of statement but all statement are not expression"
   ]
  },
  {
   "cell_type": "code",
   "execution_count": null,
   "id": "86d84d11-466b-4f88-883f-398ff7a63801",
   "metadata": {},
   "outputs": [],
   "source": [
    "# 9.What three functions can be used to get the integer, floating-point number, or string version of a value?"
   ]
  },
  {
   "cell_type": "code",
   "execution_count": null,
   "id": "038c7ac5-75c5-4c32-8cf7-71b256c88906",
   "metadata": {},
   "outputs": [],
   "source": [
    "Integer int()\n",
    "floating-point number float()\n",
    "string str()"
   ]
  },
  {
   "cell_type": "code",
   "execution_count": 49,
   "id": "1cf31da2-802c-4a33-8fa7-a3b338bc4c02",
   "metadata": {},
   "outputs": [
    {
     "name": "stdout",
     "output_type": "stream",
     "text": [
      "<class 'int'>\n"
     ]
    }
   ],
   "source": [
    "int = 45\n",
    "print(type(int))"
   ]
  },
  {
   "cell_type": "code",
   "execution_count": 50,
   "id": "0f0b383c-6ab5-4945-bbed-65801da39112",
   "metadata": {},
   "outputs": [
    {
     "name": "stdout",
     "output_type": "stream",
     "text": [
      "<class 'str'>\n"
     ]
    }
   ],
   "source": [
    "float= \"34.67\"\n",
    "print(type(float))"
   ]
  },
  {
   "cell_type": "code",
   "execution_count": 63,
   "id": "2b932211-147a-4faf-810a-b694c4f0c65d",
   "metadata": {},
   "outputs": [
    {
     "name": "stdout",
     "output_type": "stream",
     "text": [
      "<class 'str'>\n"
     ]
    }
   ],
   "source": [
    "str=\"100\"\n",
    "print(type(str))"
   ]
  },
  {
   "cell_type": "code",
   "execution_count": null,
   "id": "b01a925d-9222-4324-a21b-4387f7d5f78c",
   "metadata": {},
   "outputs": [],
   "source": [
    "# 10. Why does this expression cause an error? How can you fix it? \"I have eaten\" + 99 +\"burritos\""
   ]
  },
  {
   "cell_type": "code",
   "execution_count": null,
   "id": "e8a128d5-1d4d-4d37-9f48-ce1c69237394",
   "metadata": {},
   "outputs": [],
   "source": [
    "# this is a mix-up between strings and integers which python can not allow to add directly\n",
    "#  to convert the integer to a string using f- string.\n"
   ]
  },
  {
   "cell_type": "code",
   "execution_count": 69,
   "id": "88edf0a8-de05-4a34-8d48-b78987a1b724",
   "metadata": {},
   "outputs": [
    {
     "name": "stdout",
     "output_type": "stream",
     "text": [
      "I have eaten 99 burritos.\n"
     ]
    }
   ],
   "source": [
    "print(f\"I have eaten {99} burritos.\")"
   ]
  }
 ],
 "metadata": {
  "kernelspec": {
   "display_name": "Python [conda env:base] *",
   "language": "python",
   "name": "conda-base-py"
  },
  "language_info": {
   "codemirror_mode": {
    "name": "ipython",
    "version": 3
   },
   "file_extension": ".py",
   "mimetype": "text/x-python",
   "name": "python",
   "nbconvert_exporter": "python",
   "pygments_lexer": "ipython3",
   "version": "3.13.5"
  }
 },
 "nbformat": 4,
 "nbformat_minor": 5
}
